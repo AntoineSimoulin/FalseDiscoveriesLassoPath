{
 "cells": [
  {
   "cell_type": "markdown",
   "metadata": {},
   "source": [
    "<h1>False Discoveries occur Early on the Lasso Path</h1>\n",
    "\n",
    "<i>Antoine SIMOULIN</h2>"
   ]
  },
  {
   "cell_type": "markdown",
   "metadata": {},
   "source": [
    "<h2>Requirements</h2>"
   ]
  },
  {
   "cell_type": "code",
   "execution_count": 3,
   "metadata": {
    "collapsed": true
   },
   "outputs": [],
   "source": [
    "%matplotlib inline \n",
    "import matplotlib.pyplot as plt\n",
    "import numpy as np\n",
    "from sklearn import datasets\n",
    "from sklearn.datasets import make_classification\n",
    "from itertools import cycle\n",
    "from sklearn import preprocessing\n",
    "from sklearn import linear_model\n",
    "import matplotlib.gridspec as gridspec\n",
    "from scipy.stats import norm\n",
    "import scipy.optimize\n",
    "from math import *\n",
    "from matplotlib import rc\n",
    "#rc('font',**{'family':'sans-serif','sans-serif':['Helvetica']})\n",
    "## for Palatino and other serif fonts use:\n",
    "#rc('font',**{'family':'serif','serif':['Palatino']})\n",
    "#rc('text', usetex=True)"
   ]
  },
  {
   "cell_type": "markdown",
   "metadata": {},
   "source": [
    "<h2>Load datasets</h2>"
   ]
  },
  {
   "cell_type": "code",
   "execution_count": 6,
   "metadata": {
    "collapsed": false
   },
   "outputs": [],
   "source": [
    "def TPP_FDP(N,p,epsi,beta_value,noise,sigma_2,algo):\n",
    "    # gaussian data\n",
    "    # y = X*beta + z\n",
    "    #data, _ = datasets.load_breast_cancer(return_X_y=True) # true data\n",
    "    #data, _ = make_classification(n_samples=1000, n_features=1000)\n",
    "    #N = data.shape[0]\n",
    "    #p = data.shape[1]\n",
    "    #print(N,p,N/p)\n",
    "    #X = data\n",
    "    X = np.random.randn(N, p) # standard normal distribution\n",
    "    beta = np.zeros((p,1))\n",
    "    lim = int(epsi*N)\n",
    "    beta[:lim] = beta_value\n",
    "    y = np.dot(X,beta)\n",
    "    if noise:\n",
    "        z = np.random.normal(0,sigma_2,N)\n",
    "        y += z[:,None]\n",
    "    \n",
    "\n",
    "    if algo=='lasso':\n",
    "        alphas, coefs, _ = linear_model.lasso_path(X, y, n_alphas=1000)\n",
    "        coefs = coefs.reshape(coefs.shape[1:])\n",
    "        color='b'\n",
    "        \n",
    "    if algo=='enet':\n",
    "        alphas, coefs, _ = linear_model.enet_path(X, y, n_alphas=1000)\n",
    "        coefs = coefs.reshape(coefs.shape[1:])\n",
    "        color='orange'\n",
    "\n",
    "    FDP = np.zeros(alphas.shape[0])\n",
    "    TPP = np.zeros(alphas.shape[0])\n",
    "\n",
    "    for i in range(alphas.shape[0]):\n",
    "        # false discovery proportion\n",
    "        V = np.sum(np.array(coefs[:,i]!=0)[:,None].astype(int)*np.array(beta==0).astype(int))\n",
    "        l = np.array(np.array(coefs[:,i]!=0)[:,None])\n",
    "        FDP[i] = V/max(np.sum(l),1)\n",
    "\n",
    "        # true positive proportion\n",
    "        T = np.sum(np.array(coefs[:,i]!=0)[:,None].astype(int)*np.array(beta!=0).astype(int))\n",
    "        k = np.asarray(np.array(beta!=0))\n",
    "        TPP[i] = T/max(np.sum(k),1)\n",
    "        \n",
    "    # save figure\n",
    "    fig = plt.figure(figsize=(10, 6)) \n",
    "    plt.scatter(TPP,FDP,c=color,s=7)\n",
    "    plt.xlabel('TPP')\n",
    "    plt.ylabel('FDP')\n",
    "    plt.savefig('plot/TPP_FDP_%s%%_%s_%s_%s_%s.png' %(epsi,N,p,noise,algo),bbox_inches='tight')\n",
    "    plt.close()\n",
    "    \n",
    "    fig = plt.figure(figsize=(20, 5)) \n",
    "    gs = gridspec.GridSpec(1, 3, width_ratios=[1, 1, 1]) \n",
    "    ax0 = plt.subplot(gs[0])\n",
    "    ax0.scatter(alphas, FDP, label='FDP', s=7)\n",
    "    ax0.set_title('false discovery proportion')\n",
    "    ax0.set_ylabel('FDP')\n",
    "    ax0.set_xlabel('alpha')\n",
    "    ax1 = plt.subplot(gs[1])\n",
    "    ax1.scatter(alphas, TPP, label='TPP', s=7)\n",
    "    ax1.set_ylabel('TPP')\n",
    "    ax1.set_xlabel('alpha')\n",
    "    ax1.set_title('true positive proportion')\n",
    "    ax2 = plt.subplot(gs[2])\n",
    "    ax2.scatter(TPP, FDP, s=7)\n",
    "    ax2.set_ylabel('FDP')\n",
    "    ax2.set_xlabel('TPP')\n",
    "    ax2.set_title('FDP/TPP')\n",
    "    plt.savefig('plot/TPP_FDP_all_%s%%_%s_%s_%s_%s.png' %(epsi,N,p,noise,algo),bbox_inches='tight')\n",
    "    plt.close()\n",
    "    \n",
    "    return TPP, FDP, alphas"
   ]
  },
  {
   "cell_type": "code",
   "execution_count": 15,
   "metadata": {
    "collapsed": false
   },
   "outputs": [
    {
     "name": "stdout",
     "output_type": "stream",
     "text": [
      "569 30 18.966666666666665\n"
     ]
    }
   ],
   "source": [
    "TPP_enet, FDP_enet, alphas_enet = TPP_FDP(N=1000,p=1010,epsi=0.2,beta_value=1,noise=False,sigma_2=0.1,algo='enet')\n",
    "# param :\n",
    "# N : datasize\n",
    "# p : features number\n",
    "# b : proportion of non-zero coefficient in beta\n",
    "# beta_value : value of non-zero coefficients in beta\n",
    "# noise : boolean value to add gaussian noise or not\n",
    "# sigma_2 : noise standard deviation\n",
    "# algo : algo type, 'enet' for elastic net or 'lasso' for lasso"
   ]
  },
  {
   "cell_type": "code",
   "execution_count": 8,
   "metadata": {
    "collapsed": false
   },
   "outputs": [],
   "source": [
    "TPP_lasso, FDP_lasso, alphas_lasso = TPP_FDP(N=1000,p=1010,epsi=0.1,beta_value=10,noise=False,sigma_2=0.1,algo='lasso')"
   ]
  },
  {
   "cell_type": "code",
   "execution_count": 23,
   "metadata": {
    "collapsed": false
   },
   "outputs": [
    {
     "data": {
      "image/png": "[encoded data removed]",
      "text/plain": [
       "<matplotlib.figure.Figure at 0x1140c3048>"
      ]
     },
     "metadata": {},
     "output_type": "display_data"
    }
   ],
   "source": [
    "absX, X = fdrlasso_py(delta=1, epsi=0.2)\n",
    "fig = plt.figure(figsize=(10, 6)) \n",
    "plt.scatter(TPP_lasso, FDP_lasso, label='lasso', s=7)\n",
    "plt.xlabel('TPP')\n",
    "plt.ylabel('FDP')\n",
    "#plt.scatter(TPP_enet, FDP_enet, label='enet', s=7)\n",
    "#plt.plot(X,absX, label='boundary')\n",
    "plt.savefig('lasso_0.2_coef_10.png',bbox_inches='tight')\n",
    "plt.show()"
   ]
  },
  {
   "cell_type": "code",
   "execution_count": 13,
   "metadata": {
    "collapsed": false
   },
   "outputs": [
    {
     "data": {
      "image/png": "[encoded data removed]",
      "text/plain": [
       "<matplotlib.figure.Figure at 0x115dd70b8>"
      ]
     },
     "metadata": {},
     "output_type": "display_data"
    }
   ],
   "source": [
    "TPP_enet, FDP_enet, alphas_enet = TPP_FDP(N=1000,p=1010,epsi=0.9,beta_value=1,noise=False,sigma_2=0.9,algo='enet')\n",
    "TPP_lasso, FDP_lasso, alphas_lasso = TPP_FDP(N=1000,p=1010,epsi=0.9,beta_value=1,noise=False,sigma_2=0.9,algo='lasso')\n",
    "# absX,X = fdrlasso_py(tpp=absX[t], delta=1, epsi=0.2)\n",
    "fig = plt.figure(figsize=(20, 5)) \n",
    "gs = gridspec.GridSpec(1, 3, width_ratios=[1, 1, 1]) \n",
    "ax0 = plt.subplot(gs[0])\n",
    "ax0.scatter(alphas_lasso, FDP_lasso, label='lasso', s=7)\n",
    "ax0.scatter(alphas_enet, FDP_enet, label='enet', s=7)\n",
    "ax0.legend(loc=0)\n",
    "ax0.set_title('false discovery proportion')\n",
    "ax0.set_ylabel('FDP')\n",
    "ax0.set_xlabel('alpha')\n",
    "ax1 = plt.subplot(gs[1])\n",
    "ax1.scatter(alphas_lasso, TPP_lasso, label='lasso', s=7)\n",
    "ax1.scatter(alphas_enet, TPP_enet, label='enet', s=7)\n",
    "ax1.legend(loc=0)\n",
    "ax1.set_ylabel('TPP')\n",
    "ax1.set_xlabel('alpha')\n",
    "ax1.set_title('true positive proportion')\n",
    "ax2 = plt.subplot(gs[2])\n",
    "ax2.scatter(TPP_lasso, FDP_lasso, label='lasso', s=7)\n",
    "ax2.scatter(TPP_enet, FDP_enet, label='enet', s=7)\n",
    "# ax2.plot(X,absX, label='boundary')\n",
    "ax2.legend(loc=0)\n",
    "ax2.set_ylabel('FDP')\n",
    "ax2.set_xlabel('TPP')\n",
    "ax2.set_title('FDP/TPP')\n",
    "plt.savefig('TPP_FDP_all_lasso_enet_breast_cancer.png',bbox_inches='tight')\n",
    "plt.show()"
   ]
  },
  {
   "cell_type": "code",
   "execution_count": 4,
   "metadata": {
    "collapsed": false
   },
   "outputs": [],
   "source": [
    "# python translated function from the matlab one downloaded from :\n",
    "# https://github.com/wjsu/fdrlasso/blob/master/fdrlasso.m\n",
    "# Copyright @ Weijie Su, Malgorzata Bogdan, and Emmanuel Candes, 2015\n",
    "\n",
    "def fdrlasso(tpp, delta, epsi):\n",
    "# This function calculates the Lasso trade-off curve given tpp (true\n",
    "# positive proportion), delta = n/p (shape of the design matrix, or\n",
    "# subsampling rate), and epsi = k/p (sparsity ratio).\n",
    "# All tpp, delta, and epsi are between 0 and 1; if the\n",
    "# pair (delta, epsi) is above the Donoho-Tanner phase transition, tpp\n",
    "# should be no larger than u^\\star = powermax(delta, epsi)\n",
    "\n",
    "    if tpp > powermax(delta, epsi):\n",
    "        print('Invalid input!')\n",
    "        return\n",
    "\n",
    "    if tpp == 0:\n",
    "        q = 0\n",
    "        return\n",
    "\n",
    "    # make stepsize smaller for higher accuracy\n",
    "    stepsize = 0.1\n",
    "    tmax = max(10, np.sqrt(delta/epsi/tpp) + 1)\n",
    "    tmin = tmax - stepsize\n",
    "\n",
    "    while tmin > 0:\n",
    "        if lsandwich(tmin, tpp, delta, epsi) < rsandwich(tmin, tpp):\n",
    "            break\n",
    "        tmax = tmin\n",
    "        tmin = tmax - stepsize\n",
    "\n",
    "    if tmin <= 0:\n",
    "        stepsize = stepsize/100;\n",
    "        tmax = max(10, sqrt(delta/epsi/tpp) + 1);\n",
    "        tmin = tmax - stepsize;\n",
    "        while tmin > 0:\n",
    "            if lsandwich(tmin, tpp, delta, epsi) < rsandwich(tmin, tpp):\n",
    "                break\n",
    "            tmax = tmin\n",
    "            tmin = tmax - stepsize\n",
    "\n",
    "    diff = tmax - tmin\n",
    "    while diff > 1e-6:\n",
    "        tmid = 0.5*tmax + 0.5*tmin;\n",
    "        if lsandwich(tmid, tpp, delta, epsi) > rsandwich(tmid, tpp):\n",
    "            tmax = tmid\n",
    "        else:    \n",
    "            tmin = tmid\n",
    "        diff = tmax - tmin\n",
    "\n",
    "    t = (tmax + tmin)/2\n",
    "    q = 2*(1-epsi)*norm.cdf(-t)/(2*(1-epsi)*norm.cdf(-t) + epsi*tpp)\n",
    "    \n",
    "    return q\n",
    "\n",
    "def lsandwich(t, tpp, delta, epsi):\n",
    "    Lnume = (1-epsi)*(2*(1+t**2)*norm.cdf(-t) - 2*t*norm.pdf(t)) + epsi*(1+t**2) - delta;\n",
    "    Ldeno = epsi*((1+t**2)*(1-2*norm.cdf(-t)) + 2*t*norm.pdf(t));\n",
    "    L = Lnume/Ldeno;\n",
    "    return L\n",
    "\n",
    "def rsandwich(t, tpp):\n",
    "    R = (1 - tpp)/(1 - 2*norm.cdf(-t));\n",
    "    return R\n",
    "\n",
    "# highest power for delta < 1 and epsilon > epsilon_phase\n",
    "def powermax(delta, epsilon):\n",
    "    if delta >= 1:\n",
    "        power = 1\n",
    "        return power\n",
    "    \n",
    "    epsilon_star = epsilonDT(delta);\n",
    "    if epsilon <= epsilon_star:\n",
    "        power = 1\n",
    "        return power\n",
    "    \n",
    "    power = (epsilon - epsilon_star)*(delta - epsilon_star)/epsilon/(1 - epsilon_star) + epsilon_star/epsilon\n",
    "    \n",
    "    return power\n",
    "\n",
    "def feval(funcName, *args):\n",
    "    return eval(funcName)(*args)\n",
    "feval('log', 256, 2)\n",
    "\n",
    "def epsilonDT(delta):\n",
    "    minus_f = lambda x : -(1+2/delta*x*norm.pdf(x) - 2/delta*(1+x**2)*norm.cdf(-x))/(1+x**2-2*(1+x**2)*norm.cdf(-x)+2*x*norm.pdf(x))*delta;\n",
    "    alpha_phase = scipy.optimize.fmin(func=minus_f, x0 = 0, disp=False);    \n",
    "    #epsi = -feval('minus_f', alpha_phase);\n",
    "    epsi = -minus_f(alpha_phase)\n",
    "    return epsi\n",
    "\n",
    "def fdrlasso_py(delta,epsi):\n",
    "    Nmax =100\n",
    "    X = np.zeros(Nmax)\n",
    "    absX = np.zeros(Nmax)\n",
    "    for t in range(1,Nmax):\n",
    "        absX[t] = t/Nmax\n",
    "        X[t] = fdrlasso(tpp=absX[t], delta=delta, epsi=epsi)\n",
    "    return X,absX"
   ]
  },
  {
   "cell_type": "code",
   "execution_count": 7,
   "metadata": {
    "collapsed": false
   },
   "outputs": [
    {
     "data": {
      "image/png": "[encoded data removed]",
      "text/plain": [
       "<matplotlib.figure.Figure at 0x1128a9940>"
      ]
     },
     "metadata": {},
     "output_type": "display_data"
    }
   ],
   "source": [
    "deltas = [2,3,1]\n",
    "epsis = [0.2,0.2,0.2]\n",
    "fig = plt.figure(figsize=(10, 6)) \n",
    "for d, e in zip(deltas, epsis):\n",
    "    absX, X = fdrlasso_py(delta=d, epsi=e)\n",
    "    plt.plot(X,absX,'--', label='delta = %.1f, epsilon = %.1f' %(d, e))\n",
    "#plt.rc('text', usetex=True)\n",
    "#plt.rc('font', family='serif')\n",
    "plt.xlabel('TPP')\n",
    "plt.ylabel('FDP')\n",
    "plt.title('boundary')\n",
    "plt.legend(loc=0) \n",
    "plt.savefig('boundaries_3.png',bbox_inches='tight')\n",
    "plt.show()"
   ]
  },
  {
   "cell_type": "code",
   "execution_count": null,
   "metadata": {
    "collapsed": true
   },
   "outputs": [],
   "source": []
  }
 ],
 "metadata": {
  "anaconda-cloud": {},
  "kernelspec": {
   "display_name": "Python [conda root]",
   "language": "python",
   "name": "conda-root-py"
  },
  "language_info": {
   "codemirror_mode": {
    "name": "ipython",
    "version": 3
   },
   "file_extension": ".py",
   "mimetype": "text/x-python",
   "name": "python",
   "nbconvert_exporter": "python",
   "pygments_lexer": "ipython3",
   "version": "3.5.2"
  }
 },
 "nbformat": 4,
 "nbformat_minor": 1
}
